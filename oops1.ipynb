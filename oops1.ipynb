{
 "cells": [
  {
   "cell_type": "code",
   "execution_count": 4,
   "id": "bdd5956a-ba2b-491c-8288-e6c519b2ef8f",
   "metadata": {},
   "outputs": [
    {
     "data": {
      "text/plain": [
       "'\\n1.\\nclass is like a blue print which is used to classify the real world entites,class gives us a structure of any real world object.\\n\\nobject is an instance of the class,a class can have mutliple objects that is why we say class is used to make our code reusable.\\n\\n\\nexample \\nimagine we are talking about Kawaski ninja bike but one of our friend does not know about this bike but he knows we are talking about a bike so \\n'"
      ]
     },
     "execution_count": 4,
     "metadata": {},
     "output_type": "execute_result"
    }
   ],
   "source": [
    "\"\"\"\n",
    "1.\n",
    "class is like a blue print which is used to classify the real world entites,class gives us a structure of any real world object.\n",
    "\n",
    "object is an instance of the class,a class can have mutliple objects that is why we say class is used to make our code reusable.\n",
    "\n",
    "\n",
    "Example \n",
    "Imagine we are talking about Kawaski ninja bike. But one of our friend does not know about this bike but he know's we are talking about a bike so, \n",
    "he will imagine the basic structure of bike's in his mind,This is what classes are used to provide a basic structure of any real world entity.\n",
    "\"\"\""
   ]
  },
  {
   "cell_type": "code",
   "execution_count": 3,
   "id": "236cb341-d528-4f26-867c-ee49dd9f39db",
   "metadata": {},
   "outputs": [
    {
     "data": {
      "text/plain": [
       "'\\n2.\\na.Encapsuloation\\nb.Abstraction\\nc.Polymorphism\\nd.Inheritance\\n'"
      ]
     },
     "execution_count": 3,
     "metadata": {},
     "output_type": "execute_result"
    }
   ],
   "source": [
    "\"\"\"\n",
    "2.\n",
    "a.Encapsuloation\n",
    "b.Abstraction\n",
    "c.Polymorphism\n",
    "d.Inheritance\n",
    "\"\"\"\n"
   ]
  },
  {
   "cell_type": "code",
   "execution_count": 6,
   "id": "dc520f87-cd6f-49e3-b0ba-a7869c31bb33",
   "metadata": {},
   "outputs": [
    {
     "data": {
      "text/plain": [
       "\"\\n3.\\n__init_ stands for initialization \\nit is an special method that initializes the instance when it is created it takes the 'self' parameter along with other parameters to set up the\\ninitiakl state of an object.\\n\\nExample:\\nwe have a class called student_details.\\nwe use __init__(self,id,name,number):\\n        self.id=id\\n        self.name=name\\n        self,number=number\\n        \\nwe use __init__\\nmethod inside the class so that whenever a new object is created we pass the details of the student at the same time of creation.\""
      ]
     },
     "execution_count": 6,
     "metadata": {},
     "output_type": "execute_result"
    }
   ],
   "source": [
    "\"\"\"\n",
    "3.\n",
    "__init_ stands for initialization \n",
    "it is an special method that initializes the instance when it is created it takes the 'self' parameter along with other parameters to set up the\n",
    "initiakl state of an object.\n",
    "\n",
    "Example:\n",
    "we have a class called student_details.\n",
    "we use __init__(self,id,name,number):\n",
    "        self.id=id\n",
    "        self.name=name\n",
    "        self,number=number\n",
    "        \n",
    "we use __init__\n",
    "method inside the class so that whenever a new object is created we pass the details of the student at the same time of creation.\"\"\""
   ]
  },
  {
   "cell_type": "code",
   "execution_count": 7,
   "id": "e16a5158-acdb-4aef-8a5c-d38cb047be49",
   "metadata": {},
   "outputs": [
    {
     "data": {
      "text/plain": [
       "'\\n4.\\nself is a reserved keyword,it is an convention which is use to represent the instance of the class(object),\\nwithin the class itself.\\n'"
      ]
     },
     "execution_count": 7,
     "metadata": {},
     "output_type": "execute_result"
    }
   ],
   "source": [
    "\"\"\"\n",
    "4.\n",
    "self is a reserved keyword,it is an convention which is use to represent the instance of the class(object),\n",
    "within the class itself.\n",
    "\"\"\""
   ]
  },
  {
   "cell_type": "code",
   "execution_count": null,
   "id": "00af49f4-4136-4795-86bb-cac18e356a78",
   "metadata": {},
   "outputs": [],
   "source": [
    "\"\"\"\n",
    "5.\n",
    "\"Inheritance is an fundamental concept in OOPS that allows a class(Sub Class) to inherit properties,methods,functions from another class(Base Class).\n",
    "\n",
    "Inheritance can be of Different Types:\n",
    "1.Single Inheritance:\n",
    "    When a Subclass Inherit properties and behaviours from a single base class.\n",
    "    \n",
    "2.Multiple Inheritance:\n",
    "    it occurs when a class Inherit properties from more than one bse class.\n",
    "\n",
    "3.Multilevel Inheritance:\n",
    "    When a class is derived from another base of  forming a chain of inheritance\n",
    "    \"\"\""
   ]
  }
 ],
 "metadata": {
  "kernelspec": {
   "display_name": "Python 3 (ipykernel)",
   "language": "python",
   "name": "python3"
  },
  "language_info": {
   "codemirror_mode": {
    "name": "ipython",
    "version": 3
   },
   "file_extension": ".py",
   "mimetype": "text/x-python",
   "name": "python",
   "nbconvert_exporter": "python",
   "pygments_lexer": "ipython3",
   "version": "3.10.8"
  }
 },
 "nbformat": 4,
 "nbformat_minor": 5
}
