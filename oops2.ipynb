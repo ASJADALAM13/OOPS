{
 "cells": [
  {
   "cell_type": "code",
   "execution_count": 10,
   "id": "71c9639d-b025-4afa-aacc-9ad0ab1aca55",
   "metadata": {},
   "outputs": [
    {
     "name": "stdout",
     "output_type": "stream",
     "text": [
      "This is a Wagon-r Car\n",
      "This is a Pulsar Bike\n"
     ]
    }
   ],
   "source": [
    "#1.\n",
    "\n",
    "\"Abstraction in OOPS is a concept that helps to predefine a blue print for other classes using abc class and @abc.abstractmethod decorator.\"\n",
    "\"Abstraction helps to hide unneccesary implementaion details.\"\n",
    "\n",
    "#example\n",
    "import abc\n",
    "class vechile:\n",
    "    @abc.abstractmethod\n",
    "    def car(self):\n",
    "        pass\n",
    "            \n",
    "    @abc.abstractmethod\n",
    "    def bike(self):\n",
    "        pass\n",
    "class car(vechile):\n",
    "    def model(self):\n",
    "        print(\"This is a Wagon-r Car\")\n",
    "        \n",
    "        \n",
    "class bike(vechile):\n",
    "    def model(self):\n",
    "        print(\"This is a Pulsar Bike\")\n",
    "        \n",
    "        \n",
    "\n",
    "c1=car()\n",
    "b1=bike()\n",
    "c1.model()\n",
    "b1.model()\n",
    "\n",
    "            \n",
    "        \n",
    "            \n"
   ]
  },
  {
   "cell_type": "code",
   "execution_count": 9,
   "id": "3c2b8f5e-a87e-427e-b9a4-bb60388986ef",
   "metadata": {},
   "outputs": [
    {
     "name": "stdout",
     "output_type": "stream",
     "text": [
      "The Variable is : 20\n"
     ]
    }
   ],
   "source": [
    "#2.\n",
    "\"Abstraction is the process of predefining the class models for other classes on the other hand encapsulation is the process of bundling the \"\n",
    "\"methods and data together by hiding implementation details.\"\n",
    "#example\n",
    "#a). Encapsulation example\n",
    "class encap:\n",
    "    def __init__(self,var):\n",
    "        self.__var=var   #private attribute(no one can access from outside of the class)\n",
    "        \n",
    "    def return_var(self):\n",
    "        var=self.__var\n",
    "        print(\"The Variable is :\",var)\n",
    "        \n",
    "x=encap(20)\n",
    "#x.var   #if u run this u wiil get---'encap' object has no attribute 'var\n",
    "x.return_var()"
   ]
  },
  {
   "cell_type": "code",
   "execution_count": 11,
   "id": "f4870cf1-4cbb-4a2d-99d8-e692afb41602",
   "metadata": {},
   "outputs": [
    {
     "name": "stdout",
     "output_type": "stream",
     "text": [
      "This is a Wagon-r Car\n",
      "This is a Pulsar Bike\n"
     ]
    }
   ],
   "source": [
    "#b) Abstraction example\n",
    "#example\n",
    "import abc\n",
    "class vechile:\n",
    "    @abc.abstractmethod\n",
    "    def car(self):\n",
    "        pass\n",
    "            \n",
    "    @abc.abstractmethod\n",
    "    def bike(self):\n",
    "        pass\n",
    "class car(vechile):\n",
    "    def model(self):\n",
    "        print(\"This is a Wagon-r Car\")       \n",
    "class bike(vechile):\n",
    "    def model(self):\n",
    "        print(\"This is a Pulsar Bike\")\n",
    "c1=car()\n",
    "b1=bike()\n",
    "c1.model()\n",
    "b1.model()\n",
    "\n",
    "            \n",
    "    \n"
   ]
  },
  {
   "cell_type": "code",
   "execution_count": 12,
   "id": "a30a04af-57ea-41cd-9b13-b3da63aa450f",
   "metadata": {},
   "outputs": [
    {
     "data": {
      "text/plain": [
       "'\\nabc module in Python helps you create abstract base classes, which are like templates for other classes.,\\n helps enforce a common structure or interface among related classes.'"
      ]
     },
     "execution_count": 12,
     "metadata": {},
     "output_type": "execute_result"
    }
   ],
   "source": [
    "#3.\n",
    "\"\"\"\n",
    "abc module in Python helps you create abstract base classes, which are like templates for other classes.,\n",
    " helps enforce a common structure or interface among related classes.\"\"\""
   ]
  },
  {
   "cell_type": "code",
   "execution_count": 13,
   "id": "199ab6f8-024f-436b-85d4-d244d27c586a",
   "metadata": {},
   "outputs": [
    {
     "data": {
      "text/plain": [
       "'\\nData abstraction is a concept in computer science and software engineering that involves simplifying complex systems by\\nfocusing on the essential features while hiding unnecessary details,\\n data abstraction can be achieved through the use of abstract data types and encapsulation:'"
      ]
     },
     "execution_count": 13,
     "metadata": {},
     "output_type": "execute_result"
    }
   ],
   "source": [
    "#4.\n",
    "\"\"\"\n",
    "Data abstraction is a concept in computer science and software engineering that involves simplifying complex systems by\n",
    "focusing on the essential features while hiding unnecessary details,\n",
    " data abstraction can be achieved through the use of abstract data types and encapsulation:\"\"\""
   ]
  },
  {
   "cell_type": "code",
   "execution_count": 14,
   "id": "0e0a366e-1249-42ea-a7db-ae5b821de5a9",
   "metadata": {},
   "outputs": [
    {
     "data": {
      "text/plain": [
       "\"\\nNo we cannot create an instance of the abstract class, abstract classes are incomplete at very begining because they \\nact's as a blue print for other classes. creating an instance of the abstract class will result in the the 'Type Error'\""
      ]
     },
     "execution_count": 14,
     "metadata": {},
     "output_type": "execute_result"
    }
   ],
   "source": [
    "#5.\n",
    "\"\"\"\n",
    "No we cannot create an instance of the abstract class, abstract classes are incomplete at very begining because they \n",
    "act's as a blue print for other classes. creating an instance of the abstract class will result in the the 'Type Error'\"\"\""
   ]
  },
  {
   "cell_type": "code",
   "execution_count": null,
   "id": "733f36f0-2572-47e0-9214-17aed72126cf",
   "metadata": {},
   "outputs": [],
   "source": []
  }
 ],
 "metadata": {
  "kernelspec": {
   "display_name": "Python 3 (ipykernel)",
   "language": "python",
   "name": "python3"
  },
  "language_info": {
   "codemirror_mode": {
    "name": "ipython",
    "version": 3
   },
   "file_extension": ".py",
   "mimetype": "text/x-python",
   "name": "python",
   "nbconvert_exporter": "python",
   "pygments_lexer": "ipython3",
   "version": "3.10.8"
  }
 },
 "nbformat": 4,
 "nbformat_minor": 5
}
